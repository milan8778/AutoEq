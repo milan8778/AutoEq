{
 "cells": [
  {
   "cell_type": "code",
   "execution_count": null,
   "id": "a99e7791-660c-49de-b312-5b99455a5a69",
   "metadata": {},
   "outputs": [],
   "source": [
    "%load_ext autoreload\n",
    "%autoreload 2"
   ]
  },
  {
   "cell_type": "code",
   "execution_count": null,
   "id": "c94122fc-dece-4a36-92d9-9b6b7f892519",
   "metadata": {},
   "outputs": [],
   "source": [
    "import sys\n",
    "from pathlib import Path\n",
    "ROOT_PATH = Path().resolve().parent\n",
    "if str(ROOT_PATH) not in sys.path:\n",
    "    sys.path.insert(ROOT_PATH, 1)"
   ]
  },
  {
   "cell_type": "code",
   "execution_count": null,
   "id": "83685ae7-7f31-429c-baf9-8e0a458a53dd",
   "metadata": {},
   "outputs": [],
   "source": [
    "import json\n",
    "import ipywidgets as widgets\n",
    "from IPython.display import display\n",
    "from autoeq.constants import PEQ_CONFIGS\n",
    "from autoeq.batch_processing import batch_processing\n",
    "ROOT_PATH = Path().resolve().parent\n",
    "from dbtools.rtings_crawler import RtingsCrawler\n",
    "from dbtools.crinacle_crawler import CrinacleCrawler\n",
    "from dbtools.oratory1990_crawler import Oratory1990Crawler\n",
    "from dbtools.innerfidelity_crawler import InnerfidelityCrawler\n",
    "from dbtools.headphonecom_crawler import HeadphonecomCrawler\n",
    "from dbtools.hypethe_sonics_crawler import HypetheSonicsCrawler\n",
    "from dbtools.squig_crawler import SquigCrawler, SquigCrawlerManager\n",
    "from dbtools.prune_results import prune_results\n",
    "from dbtools.update_result_indexes import update_all_indexes, write_webapp_entries_and_measurements\n",
    "from dbtools.constants import TARGETS_PATH, MEASUREMENTS_PATH, RESULTS_PATH"
   ]
  },
  {
   "cell_type": "markdown",
   "id": "10681a98-09d8-483c-a64b-5a48ef64c4e1",
   "metadata": {},
   "source": [
    "# Crawling and Parsing\n",
    "Additional Python packages are required for processing the measurements:\n",
    "```bash\n",
    "python -m pip install -U -r dbtools/requirements.txt\n",
    "```\n",
    "\n",
    "This notebook uses IPyWidgets\n",
    "```bash\n",
    "jupyter nbextension enable --py widgetsnbextension --sys-prefix\n",
    "```\n",
    "\n",
    "Finally install IPython kernel\n",
    "```bash\n",
    "python -m ipykernel install --user --name=\"autoeq\"\n",
    "```\n",
    "\n",
    "Measurement crawlers require [Google Chrome](https://www.google.com/chrome/) installed and\n",
    "[ChromeDriver](https://googlechromelabs.github.io/chrome-for-testing/) binary in the measurements folder (or anywhere\n",
    "in the PATH).\n",
    "\n",
    "Measurement crawlers also require C++. This should be installed by default on Linux but on Windows you need to install\n",
    "Microsoft Visual Studio build tools for this. https://visualstudio.microsoft.com/downloads/ ->\n",
    "\"Tools for Visual Studio 2019\" -> \"Build Tools for Visual Studio 2019\".\n",
    "\n",
    "oratory1990 crawler requires Ghostscript installed: https://www.ghostscript.com/download/gsdnld.html"
   ]
  },
  {
   "cell_type": "markdown",
   "id": "cbffd8fd-5330-4dd4-b830-4b7dbf28dda8",
   "metadata": {},
   "source": [
    "## Clear `phone_books` to Get Latest Measurements\n",
    "crinacle, squig.link and HypetheSonics crawlers use `phone_book*.json` files. These should be deleted to allow crawlers to download fresh versions."
   ]
  },
  {
   "cell_type": "code",
   "execution_count": null,
   "id": "e94fc711-2209-42e4-85cb-bb84d9d24211",
   "metadata": {},
   "outputs": [],
   "source": [
    "for fp in MEASUREMENTS_PATH.glob('**/phone_book*.json'):\n",
    "    fp.unlink()"
   ]
  },
  {
   "cell_type": "markdown",
   "id": "23534877-debf-4b7d-b5c6-a6f03e82f0c5",
   "metadata": {},
   "source": [
    "## Crinacle\n",
    "Download measurement data from Drive folder to `measurements/crinacle/raw_data/` before running this!\n",
    "\n",
    "* `IEM Measurements/IEC60318-4 IEM Measurements (TSV txt)` into `AutoEq/measurements/crinacle/raw_data/IEC60318-4 IEM Measurements (TSV txt)`\n",
    "* `IEM Measurements/4620 IEM Measurements` into `AutoEq/measurements/crinacle/raw_data/4620 IEM Measurements`\n",
    "* `HP Measurements/EARS + 711 (TSV txt) (Legacy)` into `AutoEq/measurements/crinacle/raw_data/EARS + 711 (TSV txt) (Legacy)`\n",
    "* `GRAS 43AG-7` into `AutoEq/measurements/crinacle/raw_data/GRAS 43AG-7`"
   ]
  },
  {
   "cell_type": "code",
   "execution_count": null,
   "id": "9a2fab6b-7cd9-445b-9cde-4c96414ee9d3",
   "metadata": {},
   "outputs": [],
   "source": [
    "crawler = CrinacleCrawler()\n",
    "crawler.run()\n",
    "display(crawler.widget)"
   ]
  },
  {
   "cell_type": "code",
   "execution_count": null,
   "id": "6201059e-6cb3-4640-9ec6-d51afd63bfde",
   "metadata": {},
   "outputs": [],
   "source": [
    "crawler.process(new_only=True)"
   ]
  },
  {
   "cell_type": "markdown",
   "id": "15198d83-4cc2-4136-ab77-c7150f161b1a",
   "metadata": {},
   "source": [
    "## oratory1990\n",
    "oratory1990 crawler fetches all measurements from https://www.reddit.com/r/oratory1990/wiki/index/list_of_presets/, downloads PDFs and reads the frequency response measurement data from the PDFs. Parsing the PDFs requires [Ghostscript](https://www.ghostscript.com/download/gsdnld.html) to be installed on the system."
   ]
  },
  {
   "cell_type": "code",
   "execution_count": null,
   "id": "25f45a56-29a1-42b5-885f-09c342e3f434",
   "metadata": {},
   "outputs": [],
   "source": [
    "crawler = Oratory1990Crawler()"
   ]
  },
  {
   "cell_type": "markdown",
   "id": "f058aacf-7383-4c7d-8e8d-43136426ef22",
   "metadata": {},
   "source": [
    "#### Delete Existing PDFs\n",
    "Optionally delete existing PDFs to get latest measurements for existing items"
   ]
  },
  {
   "cell_type": "code",
   "execution_count": null,
   "id": "fe4f1a62-9d14-43ca-89e4-fd5b52862eed",
   "metadata": {},
   "outputs": [],
   "source": [
    "for fp in crawler.measurements_path.joinpath('pdf').glob('*.pdf'):\n",
    "    fp.unlink()"
   ]
  },
  {
   "cell_type": "markdown",
   "id": "943c83ab-00cf-48bf-9645-2b5fdc08c179",
   "metadata": {},
   "source": [
    "#### Crawl"
   ]
  },
  {
   "cell_type": "code",
   "execution_count": null,
   "id": "34b02c2c-723f-4cba-870f-7eb43733712b",
   "metadata": {},
   "outputs": [],
   "source": [
    "crawler.run()\n",
    "display(crawler.widget)"
   ]
  },
  {
   "cell_type": "markdown",
   "id": "9a2969e4-43c4-4551-a49e-bf5a2160a803",
   "metadata": {},
   "source": [
    "#### Process\n",
    "This downloads PDF (if it doesn't exist), converts it to an image using Ghostscript and parses the image.\n",
    "\n",
    "Set `new_only=False` to reprocess all existing measurements"
   ]
  },
  {
   "cell_type": "code",
   "execution_count": null,
   "id": "3f591c1b-203e-45a9-b9fc-68b2940cddce",
   "metadata": {},
   "outputs": [],
   "source": [
    "crawler.process(new_only=True)"
   ]
  },
  {
   "cell_type": "markdown",
   "id": "5d8bb0e4-7b99-4226-a085-02e0666bdbb7",
   "metadata": {},
   "source": [
    "## Rtings\n",
    "Rtings crawler fetches all measurements from https://www.rtings.com/headphones/1-[2,4,5,6]/graph and downloads raw FR JSON files and parses them."
   ]
  },
  {
   "cell_type": "code",
   "execution_count": null,
   "id": "8e3a3ff8-fc93-4f64-8915-71f606ddf423",
   "metadata": {},
   "outputs": [],
   "source": [
    "crawler = RtingsCrawler()\n",
    "crawler.run()\n",
    "display(crawler.widget)"
   ]
  },
  {
   "cell_type": "code",
   "execution_count": null,
   "id": "6bb1c64d-10bd-40ed-9dcb-d368e2b1f085",
   "metadata": {},
   "outputs": [],
   "source": [
    "crawler.process(new_only=True)"
   ]
  },
  {
   "cell_type": "markdown",
   "id": "411f2461-b9d6-4979-a50c-8d4bca8b01b6",
   "metadata": {},
   "source": [
    "## HypetheSonics"
   ]
  },
  {
   "cell_type": "code",
   "execution_count": null,
   "id": "e7f4c065-1c74-47c8-8b7c-c897204ed8fe",
   "metadata": {},
   "outputs": [],
   "source": [
    "crawler = HypetheSonicsCrawler()\n",
    "crawler.run()\n",
    "display(crawler.widget)"
   ]
  },
  {
   "cell_type": "code",
   "execution_count": null,
   "id": "68baef62-4bac-4ecc-8f78-84ba96173f1d",
   "metadata": {},
   "outputs": [],
   "source": [
    "crawler.process(new_only=True)"
   ]
  },
  {
   "cell_type": "markdown",
   "id": "3455d628-a9e3-4b1b-98a8-8f90bff01325",
   "metadata": {},
   "source": [
    "## Squig.link\n",
    "Several databases included in squig.link\n",
    "\n",
    "**TODO:** rig information for cralwers, somehow"
   ]
  },
  {
   "cell_type": "code",
   "execution_count": null,
   "id": "54495976-3851-4ba8-9515-41b243a28c51",
   "metadata": {},
   "outputs": [],
   "source": [
    "manager = SquigCrawlerManager()\n",
    "#print(', '.join(sorted([crawler.username for crawler in manager.crawlers])))\n",
    "#print(json.dumps({crawler.username: crawler.name for crawler in sorted(manager.crawlers, key=lambda c: c.username)}, indent=4, ensure_ascii=False))"
   ]
  },
  {
   "cell_type": "code",
   "execution_count": null,
   "id": "c2a23cc5-7d7b-40ae-a0c3-a7c8a93c82f5",
   "metadata": {},
   "outputs": [],
   "source": [
    "display(manager.run('Auriculares Argentina').widget)"
   ]
  },
  {
   "cell_type": "code",
   "execution_count": null,
   "id": "50deaf7e-f086-4c73-8c56-5ae178cc94d1",
   "metadata": {},
   "outputs": [],
   "source": [
    "manager.process('Auriculares Argentina', new_only=True)"
   ]
  },
  {
   "cell_type": "code",
   "execution_count": null,
   "id": "54449d40-e908-42dd-af7f-e52d631e4e23",
   "metadata": {},
   "outputs": [],
   "source": [
    "display(manager.run('Bakkwatan').widget)"
   ]
  },
  {
   "cell_type": "code",
   "execution_count": null,
   "id": "46f4fbda-161b-4bb9-8809-0c7e959fc04f",
   "metadata": {},
   "outputs": [],
   "source": [
    "manager.process('Bakkwatan', new_only=True)"
   ]
  },
  {
   "cell_type": "code",
   "execution_count": null,
   "id": "db06fd57-bda2-4202-9b65-e5bf9fab87cb",
   "metadata": {},
   "outputs": [],
   "source": [
    "display(manager.run('Hi End Portable').widget)"
   ]
  },
  {
   "cell_type": "code",
   "execution_count": null,
   "id": "34b107de-dd51-494e-8cda-88fc728668c2",
   "metadata": {},
   "outputs": [],
   "source": [
    "manager.process('Hi End Portable', new_only=True)"
   ]
  },
  {
   "cell_type": "markdown",
   "id": "55d31645-6c65-4030-b2c8-f273be273c1c",
   "metadata": {},
   "source": [
    "**TODO:** DHRME over-ear rig"
   ]
  },
  {
   "cell_type": "code",
   "execution_count": null,
   "id": "143d60d3-3a79-4c0c-a6a2-544134203f59",
   "metadata": {},
   "outputs": [],
   "source": [
    "display(manager.run('DHRME').widget)"
   ]
  },
  {
   "cell_type": "code",
   "execution_count": null,
   "id": "df157efe-e46d-45d4-8f3c-2c84bdc9e982",
   "metadata": {},
   "outputs": [],
   "source": [
    "manager.process('DHRME', new_only=True)"
   ]
  },
  {
   "cell_type": "code",
   "execution_count": null,
   "id": "633c8d10-ff05-4312-b3da-bae12aaf8b30",
   "metadata": {},
   "outputs": [],
   "source": [
    "display(manager.run('Fahryst').widget)"
   ]
  },
  {
   "cell_type": "code",
   "execution_count": null,
   "id": "031a285f-ec1a-4164-b6a1-19624a406060",
   "metadata": {},
   "outputs": [],
   "source": [
    "manager.process('Fahryst', new_only=True)"
   ]
  },
  {
   "cell_type": "code",
   "execution_count": null,
   "id": "1257a321-026a-4486-bbf0-13dac6bfc757",
   "metadata": {},
   "outputs": [],
   "source": [
    "display(manager.run('Filk').widget)"
   ]
  },
  {
   "cell_type": "code",
   "execution_count": null,
   "id": "4c996bd3-48d6-4332-b68d-5764f0326ef3",
   "metadata": {},
   "outputs": [],
   "source": [
    "manager.process('Filk', new_only=True)"
   ]
  },
  {
   "cell_type": "code",
   "execution_count": null,
   "id": "d6ad9cf3-55a8-4b32-bf44-452344b36371",
   "metadata": {},
   "outputs": [],
   "source": [
    "display(manager.run('freeryder05').widget)"
   ]
  },
  {
   "cell_type": "code",
   "execution_count": null,
   "id": "4f14ac5c-b594-4249-a782-614d31abe906",
   "metadata": {},
   "outputs": [],
   "source": [
    "manager.process('freeryder05', new_only=True)"
   ]
  },
  {
   "cell_type": "code",
   "execution_count": null,
   "id": "7c9b096e-fd08-4e2f-a6a0-ab0debd220b5",
   "metadata": {},
   "outputs": [],
   "source": [
    "# Not in squigsites.json\n",
    "#display(manager.run('gadgetgenerations').widget)"
   ]
  },
  {
   "cell_type": "code",
   "execution_count": null,
   "id": "fbf7d0b5-3e60-437c-93a8-e48f118a435f",
   "metadata": {},
   "outputs": [],
   "source": [
    "display(manager.run('Harpo').widget)"
   ]
  },
  {
   "cell_type": "code",
   "execution_count": null,
   "id": "bfe99471-8453-4655-951f-d4eac604026f",
   "metadata": {},
   "outputs": [],
   "source": [
    "manager.process('Harpo', new_only=True)"
   ]
  },
  {
   "cell_type": "code",
   "execution_count": null,
   "id": "b2659abc-438e-44d1-b542-927e3f817c25",
   "metadata": {},
   "outputs": [],
   "source": [
    "# Rig not known yet\n",
    "#display(manager.run('ish').widget)"
   ]
  },
  {
   "cell_type": "code",
   "execution_count": null,
   "id": "ab40131a-382c-41c3-808c-9a4ab7aa0d67",
   "metadata": {},
   "outputs": [],
   "source": [
    "# Rig not known yet\n",
    "#display(manager.run('jacstone').widget)"
   ]
  },
  {
   "cell_type": "code",
   "execution_count": null,
   "id": "8c44f1d9-51b4-47f5-8390-19b96c60eb4c",
   "metadata": {},
   "outputs": [],
   "source": [
    "display(manager.run('Jaytiss').widget)"
   ]
  },
  {
   "cell_type": "code",
   "execution_count": null,
   "id": "6fcec2cd-b647-4815-849d-0c625f920161",
   "metadata": {},
   "outputs": [],
   "source": [
    "manager.process('Jaytiss', new_only=True)"
   ]
  },
  {
   "cell_type": "code",
   "execution_count": null,
   "id": "7316b435-7cf4-4ffd-b234-d246046b9c07",
   "metadata": {},
   "outputs": [],
   "source": [
    "display(manager.run('Kazi').widget)"
   ]
  },
  {
   "cell_type": "code",
   "execution_count": null,
   "id": "df12ec61-39a3-4709-a0bd-4633d6419ade",
   "metadata": {},
   "outputs": [],
   "source": [
    "manager.process('Kazi', new_only=True)"
   ]
  },
  {
   "cell_type": "code",
   "execution_count": null,
   "id": "5fbb8dd9-25b1-489b-adb7-f7f1bb91e6c4",
   "metadata": {},
   "outputs": [],
   "source": [
    "display(manager.run('kr0mka').widget)"
   ]
  },
  {
   "cell_type": "code",
   "execution_count": null,
   "id": "af4833f9-b4ac-4333-bf51-cda2060034ac",
   "metadata": {},
   "outputs": [],
   "source": [
    "manager.process('kr0mka', new_only=True)"
   ]
  },
  {
   "cell_type": "code",
   "execution_count": null,
   "id": "6c250d6e-db79-4d42-97f4-ac43c1e69003",
   "metadata": {},
   "outputs": [],
   "source": [
    "display(manager.run('Kuulokenurkka').widget)"
   ]
  },
  {
   "cell_type": "code",
   "execution_count": null,
   "id": "455dc3e9-692e-42e5-8aea-4cce2bee2832",
   "metadata": {},
   "outputs": [],
   "source": [
    "manager.process('Kuulokenurkka', new_only=True)"
   ]
  },
  {
   "cell_type": "code",
   "execution_count": null,
   "id": "eceecef4-e01a-4ecf-bcd7-7ff08c1be162",
   "metadata": {},
   "outputs": [],
   "source": [
    "# Not in squigsites.json\n",
    "#display(manager.run('mini').widget)"
   ]
  },
  {
   "cell_type": "code",
   "execution_count": null,
   "id": "df46b948-3681-496d-bead-ccea1638ef76",
   "metadata": {},
   "outputs": [],
   "source": [
    "# Not in squigsites.json\n",
    "#display(manager.run('psykano').widget)"
   ]
  },
  {
   "cell_type": "code",
   "execution_count": null,
   "id": "eec65202-48d9-4f45-9909-ff20f76d7303",
   "metadata": {},
   "outputs": [],
   "source": [
    "display(manager.run('Regan Cipher').widget)"
   ]
  },
  {
   "cell_type": "code",
   "execution_count": null,
   "id": "b21544ca-9941-4d9a-9119-c741999250de",
   "metadata": {},
   "outputs": [],
   "source": [
    "manager.process('Regan Cipher', new_only=True)"
   ]
  },
  {
   "cell_type": "code",
   "execution_count": null,
   "id": "7dad9e32-864c-4edd-bc54-5992096e4e66",
   "metadata": {},
   "outputs": [],
   "source": [
    "display(manager.run('RikudouGoku').widget)"
   ]
  },
  {
   "cell_type": "code",
   "execution_count": null,
   "id": "05bfdfc8-3010-4736-a30b-56cfd009bf8f",
   "metadata": {},
   "outputs": [],
   "source": [
    "manager.process('RikudouGoku', new_only=True)"
   ]
  },
  {
   "cell_type": "code",
   "execution_count": null,
   "id": "c8c36181-150c-4ff0-ba16-197f4e2c964d",
   "metadata": {},
   "outputs": [],
   "source": [
    "# Not in squigsites.json\n",
    "#display(manager.run('sdlib').widget)"
   ]
  },
  {
   "cell_type": "code",
   "execution_count": null,
   "id": "18064c4f-b225-4b63-b04d-027fbaffc7fd",
   "metadata": {},
   "outputs": [],
   "source": [
    "# Almost all measurements are with 3rd party eartips\n",
    "#display(manager.run('smirk').widget)"
   ]
  },
  {
   "cell_type": "code",
   "execution_count": null,
   "id": "c05d840d-8e35-470a-bc53-d5c6832c09da",
   "metadata": {},
   "outputs": [],
   "source": [
    "# Rig not known yet\n",
    "#display(manager.run('soundcheck39').widget)"
   ]
  },
  {
   "cell_type": "code",
   "execution_count": null,
   "id": "181a3856-b2c8-4f7a-aa9e-4c93d63d962b",
   "metadata": {},
   "outputs": [],
   "source": [
    "display(manager.run('Super Review').widget)"
   ]
  },
  {
   "cell_type": "code",
   "execution_count": null,
   "id": "f341902a-86e3-4738-8d57-4626fe45ed8d",
   "metadata": {},
   "outputs": [],
   "source": [
    "manager.process('Super Review', new_only=True)"
   ]
  },
  {
   "cell_type": "code",
   "execution_count": null,
   "id": "0c0000f8-eb79-4875-b9c5-a67b2c2a681f",
   "metadata": {},
   "outputs": [],
   "source": [
    "display(manager.run('Ted\\'s Squig Hoard').widget)"
   ]
  },
  {
   "cell_type": "code",
   "execution_count": null,
   "id": "01a17743-3af7-476e-8cfe-a0da026b6f31",
   "metadata": {},
   "outputs": [],
   "source": [
    "manager.process('Ted\\'s Squig Hoard', new_only=True)"
   ]
  },
  {
   "cell_type": "code",
   "execution_count": null,
   "id": "a24c8d8a-2377-4a30-8b25-a8d8f4721869",
   "metadata": {},
   "outputs": [],
   "source": [
    "# Not in squigsites.json\n",
    "#display(manager.run('therollo9').widget)"
   ]
  },
  {
   "cell_type": "code",
   "execution_count": null,
   "id": "64e872f0-1529-4cba-900c-5b95f8ba9296",
   "metadata": {},
   "outputs": [],
   "source": [
    "display(manager.run('ToneDeafMonk').widget)"
   ]
  },
  {
   "cell_type": "code",
   "execution_count": null,
   "id": "36669ed3-65e3-47d8-9717-3ce974a7be6b",
   "metadata": {},
   "outputs": [],
   "source": [
    "manager.process('ToneDeafMonk', new_only=True)"
   ]
  },
  {
   "cell_type": "code",
   "execution_count": null,
   "id": "93056ccc-3152-42a2-ad55-848b1feb639e",
   "metadata": {},
   "outputs": [],
   "source": [
    "# Not in squigsites.json\n",
    "#display(manager.run('wdym').widget)"
   ]
  },
  {
   "cell_type": "code",
   "execution_count": null,
   "id": "abb11ffc-3fa4-43f7-857f-c7a78502c948",
   "metadata": {},
   "outputs": [],
   "source": [
    "# Only 3 models\n",
    "#display(manager.run('yanyin').widget)"
   ]
  },
  {
   "cell_type": "code",
   "execution_count": null,
   "id": "a064584f-b49a-457c-a6d8-7e2dcc3421f9",
   "metadata": {},
   "outputs": [],
   "source": [
    "# Not in squigsites.json\n",
    "#display(manager.run('zamo').widget)"
   ]
  },
  {
   "cell_type": "markdown",
   "id": "c73d94ab-f636-4429-b2a9-88e73db27bc5",
   "metadata": {},
   "source": [
    "## Rename Measurements\n",
    "Sometimes measurements are named incorrectly or previously only one sample existed and now multiple samples have been measured and so the original one needs to be renamed as \"<name> (sample 1)\""
   ]
  },
  {
   "cell_type": "code",
   "execution_count": null,
   "id": "1fd0958c-ae06-4245-bc1d-180a1e2117d7",
   "metadata": {},
   "outputs": [],
   "source": [
    "crinacle = CrinacleCrawler()\n",
    "headphonecom = HeadphonecomCrawler()\n",
    "innerfidelity = InnerfidelityCrawler()\n",
    "oratory1990 = Oratory1990Crawler()\n",
    "rtings = RtingsCrawler(driver=oratory1990.driver)\n",
    "\n",
    "renames = [\n",
    "    {'old_name': 'Simgot Audio EA500 (bronze nozzle)', 'new_name': 'Simgot Audio EA500LM (bronze nozzle)', 'crawlers': [manager.crawler('Harpo')]},\n",
    "    {'old_name': 'Simgot Audio EA500 LM (black nozzle)', 'new_name': 'Simgot Audio EA500LM (black nozzle)', 'crawlers': [manager.crawler('Harpo'), manager.crawler('Kazi'), manager.crawler('Regan Cipher')]},\n",
    "    {'old_name': 'Simgot Audio EA500 LM (red nozzle)', 'new_name': 'Simgot Audio EA500LM (red nozzle)', 'crawlers': [manager.crawler('Harpo'), manager.crawler('Kazi'), manager.crawler('Regan Cipher')]},\n",
    "]\n",
    "for rename in renames:\n",
    "    for crawler in rename['crawlers']:\n",
    "        crawler.rename_measurement(old_name=rename['old_name'], new_name=rename['new_name'], dry_run=False)"
   ]
  },
  {
   "cell_type": "markdown",
   "id": "dacbac18-6d4a-4f58-8f3b-af3700b5c895",
   "metadata": {},
   "source": [
    "## Prune Results\n",
    "Check if obsolete results (e.g. because of renaming) exist and remove them"
   ]
  },
  {
   "cell_type": "code",
   "execution_count": null,
   "id": "319d03cb-98f6-4db2-a2b0-fa464942d7e0",
   "metadata": {},
   "outputs": [],
   "source": [
    "prune_results(databases=['crinacle', 'oratory1990', 'Rtings', 'Harpo', 'Kazi', 'Regan Cipher'], dry_run=True)"
   ]
  },
  {
   "cell_type": "markdown",
   "id": "423849ce-bac6-4d7d-85e7-1d8e6451714c",
   "metadata": {},
   "source": [
    "## Update Results\n",
    "Creates new results from the measurements. `eq_kwargs` are parameters shared by all jobs."
   ]
  },
  {
   "cell_type": "code",
   "execution_count": null,
   "id": "3ce7a1e1-1613-42d2-a79f-32c901a5fa17",
   "metadata": {},
   "outputs": [],
   "source": [
    "def update_results(source_name, form, **override_kwargs):\n",
    "    kwargs = {\n",
    "        'input_dir': MEASUREMENTS_PATH.joinpath(source_name, 'data', form),\n",
    "        'output_dir': RESULTS_PATH.joinpath(source_name, form),\n",
    "        'bass_boost_gain': 6.0 if form == 'over-ear' else (0.0 if form == 'earbud' else 8.0),\n",
    "        'target': TARGETS_PATH.joinpath('Harman over-ear 2018 without bass.csv' if form == 'over-ear' else 'AutoEq in-ear.csv'),\n",
    "        'bass_boost_fc': 105, 'bass_boost_q': 0.7,\n",
    "        'parametric_eq': True, 'ten_band_eq': True, 'convolution_eq': True,\n",
    "        'parametric_eq_config': [PEQ_CONFIGS['4_PEAKING_WITH_LOW_SHELF'], PEQ_CONFIGS['4_PEAKING_WITH_HIGH_SHELF']],\n",
    "        'fs': [44100, 48000],\n",
    "        'thread_count': 0,\n",
    "    }\n",
    "    if override_kwargs:\n",
    "        kwargs.update(override_kwargs)\n",
    "    batch_processing(**kwargs)"
   ]
  },
  {
   "cell_type": "markdown",
   "id": "122bf50b-3ba8-4cc6-8297-f1dc5048ca52",
   "metadata": {},
   "source": [
    "### oratory1990"
   ]
  },
  {
   "cell_type": "code",
   "execution_count": null,
   "id": "e288081a-c892-49fc-bf7e-1a820ad1aa69",
   "metadata": {},
   "outputs": [],
   "source": [
    "update_results('oratory1990', 'over-ear', new_only=False)"
   ]
  },
  {
   "cell_type": "code",
   "execution_count": null,
   "id": "42ee0ab2-5b2d-4ff1-93ae-d7c5b691e302",
   "metadata": {},
   "outputs": [],
   "source": [
    "update_results('oratory1990', 'in-ear', new_only=False)"
   ]
  },
  {
   "cell_type": "code",
   "execution_count": null,
   "id": "848d652d-66fc-4f37-9a25-3ccf4c76c9a8",
   "metadata": {},
   "outputs": [],
   "source": [
    "update_results('oratory1990', 'earbud', new_only=False)"
   ]
  },
  {
   "cell_type": "markdown",
   "id": "481d748a-8a69-4e86-8775-cfcd29a40256",
   "metadata": {},
   "source": [
    "### crinacle"
   ]
  },
  {
   "cell_type": "code",
   "execution_count": null,
   "id": "fb6364b0-8a4d-4097-913d-f331f7793647",
   "metadata": {},
   "outputs": [],
   "source": [
    "update_results('crinacle', 'over-ear', new_only=True,\n",
    "    input_dir=MEASUREMENTS_PATH.joinpath('crinacle', 'data', 'over-ear', 'EARS + 711'),\n",
    "    output_dir=RESULTS_PATH.joinpath('crinacle', 'EARS + 711 over-ear'),\n",
    "    target=TARGETS_PATH.joinpath('crinacle EARS + 711 Harman over-ear 2018 without bass.csv'))"
   ]
  },
  {
   "cell_type": "code",
   "execution_count": null,
   "id": "10f96e31-5b6a-456d-b88d-bddc6ec4ada2",
   "metadata": {},
   "outputs": [],
   "source": [
    "update_results('crinacle', 'over-ear', new_only=True,\n",
    "    input_dir=MEASUREMENTS_PATH.joinpath('crinacle', 'data', 'over-ear', 'GRAS 43AG-7'),\n",
    "    output_dir=RESULTS_PATH.joinpath('crinacle', 'GRAS 43AG-7 over-ear'))"
   ]
  },
  {
   "cell_type": "code",
   "execution_count": null,
   "id": "6c9c373e-5ef7-430d-a5aa-e25f78d08306",
   "metadata": {},
   "outputs": [],
   "source": [
    "update_results('crinacle', 'in-ear', new_only=True,\n",
    "    input_dir=MEASUREMENTS_PATH.joinpath('crinacle', 'data', 'in-ear', 'Bruel & Kjaer 4620'),\n",
    "    output_dir=RESULTS_PATH.joinpath('crinacle', 'Bruel & Kjaer 4620 in-ear'),\n",
    "    target=TARGETS_PATH.joinpath('JM-1 with Harman treble filter.csv'),\n",
    "    bass_boost_gain=6.5)"
   ]
  },
  {
   "cell_type": "code",
   "execution_count": null,
   "id": "a8a16204-f23d-43cb-a79b-fb0ff30bf6f5",
   "metadata": {},
   "outputs": [],
   "source": [
    "update_results('crinacle', 'in-ear', new_only=True,\n",
    "    input_dir=MEASUREMENTS_PATH.joinpath('crinacle', 'data', 'in-ear', '711'),\n",
    "    output_dir=RESULTS_PATH.joinpath('crinacle', '711 in-ear'))"
   ]
  },
  {
   "cell_type": "markdown",
   "id": "52271743-ad3f-4950-9a29-1c90abfc6e99",
   "metadata": {},
   "source": [
    "### Rtings"
   ]
  },
  {
   "cell_type": "code",
   "execution_count": null,
   "id": "fab904f1-546c-46e9-a4d4-3acd6a95f8f3",
   "metadata": {},
   "outputs": [],
   "source": [
    "update_results('Rtings', 'over-ear', new_only=True, target=TARGETS_PATH.joinpath('HMS II.3 Harman over-ear 2018 without bass.csv'))"
   ]
  },
  {
   "cell_type": "code",
   "execution_count": null,
   "id": "2690f37a-77d6-42d2-bc25-6f5a06efe77a",
   "metadata": {},
   "outputs": [],
   "source": [
    "update_results('Rtings', 'in-ear', new_only=True, target=TARGETS_PATH.joinpath('HMS II.3 Autoeq in-ear.csv'))"
   ]
  },
  {
   "cell_type": "code",
   "execution_count": null,
   "id": "e1ddb3df-df76-49f5-9cb0-eaa8547c1ebc",
   "metadata": {},
   "outputs": [],
   "source": [
    "update_results('Rtings', 'earbud', new_only=True, target=TARGETS_PATH.joinpath('HMS II.3 Autoeq in-ear.csv'))"
   ]
  },
  {
   "cell_type": "markdown",
   "id": "65acd28c-c1cc-4289-b5e1-f5b7a1d1664b",
   "metadata": {},
   "source": [
    "### Innerfidelity"
   ]
  },
  {
   "cell_type": "code",
   "execution_count": null,
   "id": "4568f581-e4b9-4f0f-8219-25b0e065e244",
   "metadata": {},
   "outputs": [],
   "source": [
    "update_results('Innerfidelity', 'over-ear', target=TARGETS_PATH.joinpath('HMS II.3 Harman over-ear 2018 without bass.csv'), new_only=True)"
   ]
  },
  {
   "cell_type": "code",
   "execution_count": null,
   "id": "c87e797c-9018-4ff2-b997-9e654ceb74cd",
   "metadata": {},
   "outputs": [],
   "source": [
    "update_results('Innerfidelity', 'in-ear', target=TARGETS_PATH.joinpath('HMS II.3 Autoeq in-ear.csv'), new_only=True)"
   ]
  },
  {
   "cell_type": "code",
   "execution_count": null,
   "id": "f14aa0eb-9697-402b-bb81-16e42d221974",
   "metadata": {},
   "outputs": [],
   "source": [
    "update_results('Innerfidelity', 'earbud', target=TARGETS_PATH.joinpath('HMS II.3 Autoeq in-ear.csv'), new_only=True)"
   ]
  },
  {
   "cell_type": "markdown",
   "id": "f1f0178c-312b-4246-ba4d-1986cb05c14e",
   "metadata": {},
   "source": [
    "### Headphone.com Legacy"
   ]
  },
  {
   "cell_type": "code",
   "execution_count": null,
   "id": "cbcf4fd0-b46e-475f-96f7-8520cf788266",
   "metadata": {},
   "outputs": [],
   "source": [
    "update_results('Headphone.com Legacy', 'over-ear', new_only=True, target=TARGETS_PATH.joinpath('HMS II.3 Harman over-ear 2018 without bass.csv'))"
   ]
  },
  {
   "cell_type": "code",
   "execution_count": null,
   "id": "2221cf95-b298-4c4a-a041-56a740d723e3",
   "metadata": {},
   "outputs": [],
   "source": [
    "update_results('Headphone.com Legacy', 'in-ear', new_only=True, target=TARGETS_PATH.joinpath('HMS II.3 Autoeq in-ear.csv'))"
   ]
  },
  {
   "cell_type": "code",
   "execution_count": null,
   "id": "c1e74a27-52aa-4cf4-876a-6f4b3b48b90f",
   "metadata": {},
   "outputs": [],
   "source": [
    "update_results('Headphone.com Legacy', 'earbud', new_only=True, target=TARGETS_PATH.joinpath('HMS II.3 Autoeq in-ear.csv'))"
   ]
  },
  {
   "cell_type": "markdown",
   "id": "6f9fa7ee-4b3d-40cf-b37e-ab78608459e7",
   "metadata": {},
   "source": [
    "### HypetheSonics"
   ]
  },
  {
   "cell_type": "code",
   "execution_count": null,
   "id": "ea70c1c7-9e2b-4d33-826b-a6a5fae54438",
   "metadata": {},
   "outputs": [],
   "source": [
    "update_results('HypetheSonics', 'over-ear', new_only=True,\n",
    "    target=TARGETS_PATH.joinpath('LMG 5128 0.6.csv'),\n",
    "    bass_boost_gain=4.0)"
   ]
  },
  {
   "cell_type": "code",
   "execution_count": null,
   "id": "399531df-b305-43c9-a369-4b8e466fd57e",
   "metadata": {},
   "outputs": [],
   "source": [
    "update_results('HypetheSonics', 'in-ear', new_only=True,\n",
    "    input_dir=MEASUREMENTS_PATH.joinpath('HypetheSonics', 'data', 'in-ear', 'Bruel & Kjaer 5128'),\n",
    "    output_dir=RESULTS_PATH.joinpath('HypetheSonics', 'Bruel & Kjaer 5128 in-ear'),\n",
    "    target=TARGETS_PATH.joinpath('JM-1 with Harman treble filter.csv'),\n",
    "    bass_boost_gain=6.5)"
   ]
  },
  {
   "cell_type": "code",
   "execution_count": null,
   "id": "018ef460-d8e0-4aa8-b58f-61ab00845731",
   "metadata": {},
   "outputs": [],
   "source": [
    "update_results('HypetheSonics', 'in-ear', new_only=True,\n",
    "    input_dir=MEASUREMENTS_PATH.joinpath('HypetheSonics', 'data', 'in-ear', 'GRAS RA0045'),\n",
    "    output_dir=RESULTS_PATH.joinpath('HypetheSonics', 'GRAS RA0045 in-ear'))"
   ]
  },
  {
   "cell_type": "code",
   "execution_count": null,
   "id": "58320c65-aea4-4109-9c71-b78b72b0c4d9",
   "metadata": {},
   "outputs": [],
   "source": [
    "update_results('HypetheSonics', 'earbud', new_only=True,\n",
    "    target=TARGETS_PATH.joinpath('LMG 5128 0.6.csv'),\n",
    "    bass_boost_gain=0.0)"
   ]
  },
  {
   "cell_type": "markdown",
   "id": "5261e6b5-1e2e-4e0c-aae5-79f74b933ab1",
   "metadata": {},
   "source": [
    "### squig.link"
   ]
  },
  {
   "cell_type": "code",
   "execution_count": null,
   "id": "0fa48f04-ba33-4250-9402-5f3cea583bd5",
   "metadata": {},
   "outputs": [],
   "source": [
    "update_results('Auriculares Argentina', 'over-ear', new_only=True)"
   ]
  },
  {
   "cell_type": "code",
   "execution_count": null,
   "id": "c620e28a-f385-494a-89c0-250ff46c0673",
   "metadata": {},
   "outputs": [],
   "source": [
    "update_results('Auriculares Argentina', 'in-ear', new_only=True)"
   ]
  },
  {
   "cell_type": "code",
   "execution_count": null,
   "id": "f60f52d3-a74b-4ff6-82c0-7ee54d033f89",
   "metadata": {},
   "outputs": [],
   "source": [
    "update_results('Bakkwatan', 'in-ear', new_only=True)"
   ]
  },
  {
   "cell_type": "code",
   "execution_count": null,
   "id": "7f38e9dc-06d6-43f7-88d7-057cf80240d3",
   "metadata": {},
   "outputs": [],
   "source": [
    "update_results('DHRME', 'in-ear', new_only=True)"
   ]
  },
  {
   "cell_type": "code",
   "execution_count": null,
   "id": "d75611a7-94c7-4bab-98e9-576e619e6b82",
   "metadata": {},
   "outputs": [],
   "source": [
    "update_results('Fahryst', 'in-ear', new_only=True)"
   ]
  },
  {
   "cell_type": "code",
   "execution_count": null,
   "id": "ff3a091f-60cf-4b82-b837-e34e69016cfe",
   "metadata": {},
   "outputs": [],
   "source": [
    "update_results('Filk', 'in-ear', new_only=True)"
   ]
  },
  {
   "cell_type": "code",
   "execution_count": null,
   "id": "629f0a61-160d-4ca2-9310-defc6ed89431",
   "metadata": {},
   "outputs": [],
   "source": [
    "update_results('Filk', 'over-ear', new_only=True)"
   ]
  },
  {
   "cell_type": "code",
   "execution_count": null,
   "id": "c73e9648-3fb5-4b33-8624-e893ccb03db6",
   "metadata": {},
   "outputs": [],
   "source": [
    "update_results('freeryder05', 'in-ear', new_only=True)"
   ]
  },
  {
   "cell_type": "code",
   "execution_count": null,
   "id": "fc66f4da-8fb8-4299-8d06-84eddae91946",
   "metadata": {},
   "outputs": [],
   "source": [
    "update_results('Harpo', 'in-ear', new_only=True)"
   ]
  },
  {
   "cell_type": "code",
   "execution_count": null,
   "id": "32234419-906a-41df-90ac-efd320ff2b42",
   "metadata": {},
   "outputs": [],
   "source": [
    "update_results('Hi End Portable', 'in-ear', new_only=True)"
   ]
  },
  {
   "cell_type": "code",
   "execution_count": null,
   "id": "84358774-0671-48bc-863c-ac754fe0c5bd",
   "metadata": {},
   "outputs": [],
   "source": [
    "update_results('Jaytiss', 'in-ear', new_only=True)"
   ]
  },
  {
   "cell_type": "code",
   "execution_count": null,
   "id": "974675bf-c2a2-4b2d-8edd-cf06869fe462",
   "metadata": {},
   "outputs": [],
   "source": [
    "update_results('Kazi', 'in-ear', new_only=True)"
   ]
  },
  {
   "cell_type": "code",
   "execution_count": null,
   "id": "ed3f66dc-a794-4b37-bd5a-623ce7b606bc",
   "metadata": {},
   "outputs": [],
   "source": [
    "update_results('Kazi', 'earbud', new_only=True)"
   ]
  },
  {
   "cell_type": "code",
   "execution_count": null,
   "id": "b56ed503-b5ad-405b-bcf8-d5d95cda2d46",
   "metadata": {},
   "outputs": [],
   "source": [
    "update_results('kr0mka', 'over-ear', new_only=True)"
   ]
  },
  {
   "cell_type": "code",
   "execution_count": null,
   "id": "b712b216-ed21-4aea-a8e8-da53834dc396",
   "metadata": {},
   "outputs": [],
   "source": [
    "update_results('kr0mka', 'in-ear', new_only=True)"
   ]
  },
  {
   "cell_type": "code",
   "execution_count": null,
   "id": "270cb46a-8418-48bf-8dc2-704f2336c56e",
   "metadata": {},
   "outputs": [],
   "source": [
    "update_results('kr0mka', 'earbud', new_only=True)"
   ]
  },
  {
   "cell_type": "code",
   "execution_count": null,
   "id": "42aca0d5-bc03-4efb-9e4e-2bfc80c7d335",
   "metadata": {},
   "outputs": [],
   "source": [
    "update_results('Kuulokenurkka', 'over-ear', new_only=True)"
   ]
  },
  {
   "cell_type": "code",
   "execution_count": null,
   "id": "3a7e0d21-1dab-4f0d-bd9e-e04edad28a6b",
   "metadata": {},
   "outputs": [],
   "source": [
    "update_results('Regan Cipher', 'over-ear', new_only=True)"
   ]
  },
  {
   "cell_type": "code",
   "execution_count": null,
   "id": "ed28f4b4-fcb2-4d90-9dae-046b7c50f103",
   "metadata": {},
   "outputs": [],
   "source": [
    "update_results('Regan Cipher', 'in-ear', new_only=True)"
   ]
  },
  {
   "cell_type": "code",
   "execution_count": null,
   "id": "aaf22b5f-6d50-48e8-bde2-dc293a9d26d9",
   "metadata": {},
   "outputs": [],
   "source": [
    "update_results('Regan Cipher', 'earbud', new_only=True)"
   ]
  },
  {
   "cell_type": "code",
   "execution_count": null,
   "id": "16c10754-b19f-4ba1-91d3-afdb4d0cf428",
   "metadata": {},
   "outputs": [],
   "source": [
    "update_results('RikudouGoku', 'in-ear', new_only=True)"
   ]
  },
  {
   "cell_type": "code",
   "execution_count": null,
   "id": "34fc7153-69cf-4e70-8410-09b8d2c2c786",
   "metadata": {},
   "outputs": [],
   "source": [
    "update_results('Super Review', 'over-ear', new_only=True)"
   ]
  },
  {
   "cell_type": "code",
   "execution_count": null,
   "id": "8625f05b-c32e-40ce-91de-0c5bcadf7af7",
   "metadata": {},
   "outputs": [],
   "source": [
    "update_results('Super Review', 'in-ear', new_only=True)"
   ]
  },
  {
   "cell_type": "code",
   "execution_count": null,
   "id": "cd47e251-cc60-4797-b8a6-2253a3744e6f",
   "metadata": {},
   "outputs": [],
   "source": [
    "update_results('Super Review', 'earbud', new_only=True)"
   ]
  },
  {
   "cell_type": "code",
   "execution_count": null,
   "id": "4b837b80-093e-4efd-89aa-f57d8ad7437e",
   "metadata": {},
   "outputs": [],
   "source": [
    "update_results('Ted\\'s Squig Hoard', 'in-ear', new_only=True)"
   ]
  },
  {
   "cell_type": "code",
   "execution_count": null,
   "id": "467b188d-21dc-4c6b-9844-8f5f9b14f904",
   "metadata": {},
   "outputs": [],
   "source": [
    "update_results('ToneDeafMonk', 'in-ear', new_only=True)"
   ]
  },
  {
   "cell_type": "markdown",
   "id": "5ecd61ed-e920-42f6-8d47-5a4c1ac46ad9",
   "metadata": {},
   "source": [
    "## Update Indexes\n",
    "Updates recommended results, full results, DB specific results, HeSuVi results and ranking table."
   ]
  },
  {
   "cell_type": "code",
   "execution_count": null,
   "id": "67b4aa57-c478-47b5-b140-272ef4a93b07",
   "metadata": {},
   "outputs": [],
   "source": [
    "update_all_indexes()"
   ]
  },
  {
   "cell_type": "markdown",
   "id": "c631045b-8097-4bef-b6f3-6af843e386fd",
   "metadata": {},
   "source": [
    "## Deploy\n",
    "1. Add files to Git, commit and push\n",
    "2. Upload webapp data to server"
   ]
  },
  {
   "cell_type": "markdown",
   "id": "073fa29d-2ba8-4776-a7a6-efee12965acc",
   "metadata": {},
   "source": [
    "# Sandbox\n",
    "Don't run these! Random exploration while developing."
   ]
  },
  {
   "cell_type": "code",
   "execution_count": null,
   "id": "065560de-640b-41d2-b84f-5544e6a74189",
   "metadata": {},
   "outputs": [],
   "source": [
    "from pathlib import Path\n",
    "from tqdm.auto import tqdm\n",
    "import re\n",
    "import requests\n",
    "from selenium.webdriver.common.by import By\n",
    "import json\n",
    "from bs4 import BeautifulSoup\n",
    "import numpy as np\n",
    "import json\n",
    "from autoeq.frequency_response import FrequencyResponse"
   ]
  },
  {
   "cell_type": "code",
   "execution_count": null,
   "id": "140a6f56-5c78-4e33-a4c5-512dc40fe6d9",
   "metadata": {},
   "outputs": [],
   "source": [
    "crawler = CrinacleCrawler()\n",
    "crawler.crawl()\n",
    "\n",
    "for item in crawler.crawl_index:\n",
    "    index_item = crawler.name_index.find_one(url=item.url)\n",
    "    book = crawler.book_maps[item.url.split('/')[-2]]\n",
    "    normalized_file_name = crawler.normalize_file_name(item.url.split('/')[-1])\n",
    "    source_name = book[normalized_file_name] if normalized_file_name in book else None\n",
    "    if index_item is not None and source_name is not None and index_item.source_name != source_name:\n",
    "        print(f'{index_item.source_name} --> {source_name}')\n",
    "        index_item.source_name = source_name\n",
    "crawler.write_name_index()"
   ]
  },
  {
   "cell_type": "code",
   "execution_count": null,
   "id": "cff8dae7-464b-4324-b7b6-e2496f7d7d83",
   "metadata": {},
   "outputs": [],
   "source": [
    "print(crawler.crawl_index.find_one(url='file://measurements/crinacle/raw_data/IEC60318-4 IEM Measurements (TSV txt)/1Custom Dual L.txt'))"
   ]
  },
  {
   "cell_type": "code",
   "execution_count": null,
   "id": "96cf78a2-3caf-499e-9cd7-8f191400dabd",
   "metadata": {},
   "outputs": [],
   "source": [
    "print(crawler.name_index.find_one(url='file://measurements/crinacle/raw_data/IEC60318-4 IEM Measurements (TSV txt)/1Custom Dual L.txt'))"
   ]
  },
  {
   "cell_type": "code",
   "execution_count": null,
   "id": "aebb827b-869c-4d7a-908d-4bff7e9f4ec4",
   "metadata": {},
   "outputs": [],
   "source": [
    "measurements = list(MEASUREMENTS_PATH.glob('**/*.csv'))\n",
    "for fp in tqdm(measurements):\n",
    "    fr = FrequencyResponse.read_csv(fp)\n",
    "    if np.sum(np.abs(fr.raw)) < 0.01:\n",
    "        print(f'Removed \"{fp}\"')"
   ]
  },
  {
   "cell_type": "code",
   "execution_count": null,
   "id": "940133b7-6f0f-4803-acbd-c27e2fab9498",
   "metadata": {},
   "outputs": [],
   "source": []
  }
 ],
 "metadata": {
  "kernelspec": {
   "display_name": "autoeq",
   "language": "python",
   "name": "autoeq"
  },
  "language_info": {
   "codemirror_mode": {
    "name": "ipython",
    "version": 3
   },
   "file_extension": ".py",
   "mimetype": "text/x-python",
   "name": "python",
   "nbconvert_exporter": "python",
   "pygments_lexer": "ipython3",
   "version": "3.11.6"
  }
 },
 "nbformat": 4,
 "nbformat_minor": 5
}
